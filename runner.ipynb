{
 "cells": [
  {
   "cell_type": "code",
   "execution_count": 17,
   "metadata": {},
   "outputs": [],
   "source": [
    "from random import Random\n",
    "from src.agents import Agent\n",
    "from src.backtester import Backtester\n",
    "from datetime import date\n",
    "import src.backtester.benchmarks.evaluation as b\n",
    "from src.models.HRP_allocation import HRP\n",
    "from src.ticker_codes import tickers"
   ]
  },
  {
   "cell_type": "code",
   "execution_count": 18,
   "metadata": {},
   "outputs": [],
   "source": [
    "# make sure to pip install -r requirements.txt\n",
    "\n",
    "start_date = date(2024, 1, 1)\n",
    "end_date = date(2024, 10, 29)\n",
    "\n",
    "benchmarks = [ b.PNL('P'),b.Sharpe('P'), b.PNL('YM'),b.Sharpe('YM')]\n"
   ]
  },
  {
   "cell_type": "code",
   "execution_count": 19,
   "metadata": {},
   "outputs": [],
   "source": [
    "#agents = [Agent(RandomAllocation(months_back=1))]\n",
    "agents = [Agent(HRP(months_back=2))]"
   ]
  },
  {
   "cell_type": "code",
   "execution_count": 20,
   "metadata": {},
   "outputs": [],
   "source": [
    "back_tester = Backtester(start_date=start_date,\n",
    "                         end_date=end_date,\n",
    "                         ticker_list= tickers,\n",
    "                         benchmarks=benchmarks)"
   ]
  },
  {
   "cell_type": "code",
   "execution_count": 21,
   "metadata": {},
   "outputs": [],
   "source": [
    "# Add the agents to the backcaster one by one.\n",
    "for agent in agents:\n",
    "    back_tester.add_agent(agent)"
   ]
  },
  {
   "cell_type": "code",
   "execution_count": 22,
   "metadata": {},
   "outputs": [
    {
     "ename": "ValueError",
     "evalue": "value must be an integer, received <class 'str'> for year",
     "output_type": "error",
     "traceback": [
      "\u001B[0;31m---------------------------------------------------------------------------\u001B[0m",
      "\u001B[0;31mValueError\u001B[0m                                Traceback (most recent call last)",
      "Cell \u001B[0;32mIn[22], line 1\u001B[0m\n\u001B[0;32m----> 1\u001B[0m \u001B[43mback_tester\u001B[49m\u001B[38;5;241;43m.\u001B[39;49m\u001B[43mrun_n_evaluate\u001B[49m\u001B[43m(\u001B[49m\u001B[43m)\u001B[49m\n",
      "File \u001B[0;32m~/Documents/MF703/Project/HRP-Portfolio-Optimization/src/backtester/__init__.py:134\u001B[0m, in \u001B[0;36mBacktester.run_n_evaluate\u001B[0;34m(self)\u001B[0m\n\u001B[1;32m    129\u001B[0m \u001B[38;5;250m\u001B[39m\u001B[38;5;124;03m\"\"\"\u001B[39;00m\n\u001B[1;32m    130\u001B[0m \u001B[38;5;124;03mRuns the simulation and evaluate the agents. Returns the dictionary with the results.\u001B[39;00m\n\u001B[1;32m    131\u001B[0m \u001B[38;5;124;03m:return: Dictionary with the specified format see evaluate_agents for details on format.\u001B[39;00m\n\u001B[1;32m    132\u001B[0m \u001B[38;5;124;03m\"\"\"\u001B[39;00m\n\u001B[1;32m    133\u001B[0m \u001B[38;5;66;03m# Run first\u001B[39;00m\n\u001B[0;32m--> 134\u001B[0m \u001B[38;5;28;43mself\u001B[39;49m\u001B[38;5;241;43m.\u001B[39;49m\u001B[43mrun\u001B[49m\u001B[43m(\u001B[49m\u001B[43m)\u001B[49m\n\u001B[1;32m    136\u001B[0m \u001B[38;5;66;03m# Evaluate the agents based on the actual prices\u001B[39;00m\n\u001B[1;32m    137\u001B[0m results \u001B[38;5;241m=\u001B[39m \u001B[38;5;28mself\u001B[39m\u001B[38;5;241m.\u001B[39mevaluate_agents(\u001B[38;5;28mself\u001B[39m\u001B[38;5;241m.\u001B[39mbenchmarks)\n",
      "File \u001B[0;32m~/Documents/MF703/Project/HRP-Portfolio-Optimization/src/backtester/__init__.py:123\u001B[0m, in \u001B[0;36mBacktester.run\u001B[0;34m(self)\u001B[0m\n\u001B[1;32m    118\u001B[0m \u001B[38;5;250m\u001B[39m\u001B[38;5;124;03m\"\"\"\u001B[39;00m\n\u001B[1;32m    119\u001B[0m \u001B[38;5;124;03mRuns the simulation for all agents added. After the run has ended all agents have their predictions and\u001B[39;00m\n\u001B[1;32m    120\u001B[0m \u001B[38;5;124;03mquantities calculated.\u001B[39;00m\n\u001B[1;32m    121\u001B[0m \u001B[38;5;124;03m\"\"\"\u001B[39;00m\n\u001B[1;32m    122\u001B[0m \u001B[38;5;66;03m# Get data\u001B[39;00m\n\u001B[0;32m--> 123\u001B[0m \u001B[38;5;28;43mself\u001B[39;49m\u001B[38;5;241;43m.\u001B[39;49m\u001B[43mget_data\u001B[49m\u001B[43m(\u001B[49m\u001B[43m)\u001B[49m\n\u001B[1;32m    125\u001B[0m \u001B[38;5;66;03m# Agents calculate the weight allocations\u001B[39;00m\n\u001B[1;32m    126\u001B[0m \u001B[38;5;28mself\u001B[39m\u001B[38;5;241m.\u001B[39magents_allocate()\n",
      "File \u001B[0;32m~/Documents/MF703/Project/HRP-Portfolio-Optimization/src/backtester/__init__.py:44\u001B[0m, in \u001B[0;36mBacktester.get_data\u001B[0;34m(self)\u001B[0m\n\u001B[1;32m     42\u001B[0m \u001B[38;5;28mself\u001B[39m\u001B[38;5;241m.\u001B[39mdata_from \u001B[38;5;241m=\u001B[39m \u001B[38;5;28mself\u001B[39m\u001B[38;5;241m.\u001B[39mdata_date_from()\n\u001B[1;32m     43\u001B[0m data_provider \u001B[38;5;241m=\u001B[39m DataProvider(\u001B[38;5;28mself\u001B[39m\u001B[38;5;241m.\u001B[39mdata_from, \u001B[38;5;28mself\u001B[39m\u001B[38;5;241m.\u001B[39mend_date, \u001B[38;5;28mself\u001B[39m\u001B[38;5;241m.\u001B[39mtickers)\n\u001B[0;32m---> 44\u001B[0m \u001B[38;5;28mself\u001B[39m\u001B[38;5;241m.\u001B[39mdata \u001B[38;5;241m=\u001B[39m \u001B[43mdata_provider\u001B[49m\u001B[38;5;241;43m.\u001B[39;49m\u001B[43mfetch\u001B[49m\u001B[43m(\u001B[49m\u001B[43m)\u001B[49m\n\u001B[1;32m     46\u001B[0m \u001B[38;5;28;01mif\u001B[39;00m \u001B[38;5;28mself\u001B[39m\u001B[38;5;241m.\u001B[39mdata_from \u001B[38;5;129;01mis\u001B[39;00m \u001B[38;5;28;01mNone\u001B[39;00m:\n\u001B[1;32m     47\u001B[0m     \u001B[38;5;28;01mraise\u001B[39;00m \u001B[38;5;167;01mValueError\u001B[39;00m(\u001B[38;5;124m\"\u001B[39m\u001B[38;5;124mYou have to provide agents for evaluations\u001B[39m\u001B[38;5;124m\"\u001B[39m)\n",
      "File \u001B[0;32m~/Documents/MF703/Project/HRP-Portfolio-Optimization/src/utils/DataProvider.py:37\u001B[0m, in \u001B[0;36mDataProvider.fetch\u001B[0;34m(self)\u001B[0m\n\u001B[1;32m     31\u001B[0m \u001B[38;5;28;01mdef\u001B[39;00m \u001B[38;5;21mfetch\u001B[39m(\u001B[38;5;28mself\u001B[39m) \u001B[38;5;241m-\u001B[39m\u001B[38;5;241m>\u001B[39m pd\u001B[38;5;241m.\u001B[39mDataFrame:\n\u001B[1;32m     32\u001B[0m \u001B[38;5;250m    \u001B[39m\u001B[38;5;124;03m\"\"\"\u001B[39;00m\n\u001B[1;32m     33\u001B[0m \u001B[38;5;124;03m    Fetches historical for the specified asset classes.\u001B[39;00m\n\u001B[1;32m     34\u001B[0m \u001B[38;5;124;03m    ----\u001B[39;00m\n\u001B[1;32m     35\u001B[0m \u001B[38;5;124;03m    Returns pd.DataFrame with ticker data.\u001B[39;00m\n\u001B[1;32m     36\u001B[0m \u001B[38;5;124;03m    \"\"\"\u001B[39;00m\n\u001B[0;32m---> 37\u001B[0m     \u001B[38;5;28mself\u001B[39m\u001B[38;5;241m.\u001B[39mdata \u001B[38;5;241m=\u001B[39m \u001B[43myf\u001B[49m\u001B[38;5;241;43m.\u001B[39;49m\u001B[43mdownload\u001B[49m\u001B[43m(\u001B[49m\u001B[38;5;28;43mself\u001B[39;49m\u001B[38;5;241;43m.\u001B[39;49m\u001B[43mtickers\u001B[49m\u001B[43m,\u001B[49m\u001B[43m \u001B[49m\u001B[38;5;28;43mself\u001B[39;49m\u001B[38;5;241;43m.\u001B[39;49m\u001B[43mstart\u001B[49m\u001B[43m,\u001B[49m\u001B[43m \u001B[49m\u001B[38;5;28;43mself\u001B[39;49m\u001B[38;5;241;43m.\u001B[39;49m\u001B[43mend\u001B[49m\u001B[43m)\u001B[49m\n\u001B[1;32m     38\u001B[0m     \u001B[38;5;28mself\u001B[39m\u001B[38;5;241m.\u001B[39mdata \u001B[38;5;241m=\u001B[39m \u001B[38;5;28mself\u001B[39m\u001B[38;5;241m.\u001B[39mdata[\u001B[38;5;28mself\u001B[39m\u001B[38;5;241m.\u001B[39mtarget] \u001B[38;5;28;01mif\u001B[39;00m \u001B[38;5;28mself\u001B[39m\u001B[38;5;241m.\u001B[39mtarget \u001B[38;5;28;01melse\u001B[39;00m \u001B[38;5;28mself\u001B[39m\u001B[38;5;241m.\u001B[39mdata\n",
      "File \u001B[0;32m~/Documents/MF703/Project/HRP-Portfolio-Optimization/venv/lib/python3.12/site-packages/yfinance/utils.py:104\u001B[0m, in \u001B[0;36mlog_indent_decorator.<locals>.wrapper\u001B[0;34m(*args, **kwargs)\u001B[0m\n\u001B[1;32m    101\u001B[0m logger\u001B[38;5;241m.\u001B[39mdebug(\u001B[38;5;124mf\u001B[39m\u001B[38;5;124m'\u001B[39m\u001B[38;5;124mEntering \u001B[39m\u001B[38;5;132;01m{\u001B[39;00mfunc\u001B[38;5;241m.\u001B[39m\u001B[38;5;18m__name__\u001B[39m\u001B[38;5;132;01m}\u001B[39;00m\u001B[38;5;124m()\u001B[39m\u001B[38;5;124m'\u001B[39m)\n\u001B[1;32m    103\u001B[0m \u001B[38;5;28;01mwith\u001B[39;00m IndentationContext():\n\u001B[0;32m--> 104\u001B[0m     result \u001B[38;5;241m=\u001B[39m \u001B[43mfunc\u001B[49m\u001B[43m(\u001B[49m\u001B[38;5;241;43m*\u001B[39;49m\u001B[43margs\u001B[49m\u001B[43m,\u001B[49m\u001B[43m \u001B[49m\u001B[38;5;241;43m*\u001B[39;49m\u001B[38;5;241;43m*\u001B[39;49m\u001B[43mkwargs\u001B[49m\u001B[43m)\u001B[49m\n\u001B[1;32m    106\u001B[0m logger\u001B[38;5;241m.\u001B[39mdebug(\u001B[38;5;124mf\u001B[39m\u001B[38;5;124m'\u001B[39m\u001B[38;5;124mExiting \u001B[39m\u001B[38;5;132;01m{\u001B[39;00mfunc\u001B[38;5;241m.\u001B[39m\u001B[38;5;18m__name__\u001B[39m\u001B[38;5;132;01m}\u001B[39;00m\u001B[38;5;124m()\u001B[39m\u001B[38;5;124m'\u001B[39m)\n\u001B[1;32m    107\u001B[0m \u001B[38;5;28;01mreturn\u001B[39;00m result\n",
      "File \u001B[0;32m~/Documents/MF703/Project/HRP-Portfolio-Optimization/venv/lib/python3.12/site-packages/yfinance/multi.py:115\u001B[0m, in \u001B[0;36mdownload\u001B[0;34m(tickers, start, end, actions, threads, ignore_tz, group_by, auto_adjust, back_adjust, repair, keepna, progress, period, interval, prepost, proxy, rounding, timeout, session, multi_level_index)\u001B[0m\n\u001B[1;32m    111\u001B[0m         ignore_tz \u001B[38;5;241m=\u001B[39m \u001B[38;5;28;01mTrue\u001B[39;00m\n\u001B[1;32m    113\u001B[0m \u001B[38;5;66;03m# create ticker list\u001B[39;00m\n\u001B[1;32m    114\u001B[0m tickers \u001B[38;5;241m=\u001B[39m tickers \u001B[38;5;28;01mif\u001B[39;00m \u001B[38;5;28misinstance\u001B[39m(\n\u001B[0;32m--> 115\u001B[0m     tickers, (\u001B[38;5;28mlist\u001B[39m, \u001B[38;5;28mset\u001B[39m, \u001B[38;5;28mtuple\u001B[39m)) \u001B[38;5;28;01melse\u001B[39;00m \u001B[43mtickers\u001B[49m\u001B[38;5;241;43m.\u001B[39;49m\u001B[43mreplace\u001B[49m\u001B[43m(\u001B[49m\u001B[38;5;124;43m'\u001B[39;49m\u001B[38;5;124;43m,\u001B[39;49m\u001B[38;5;124;43m'\u001B[39;49m\u001B[43m,\u001B[49m\u001B[43m \u001B[49m\u001B[38;5;124;43m'\u001B[39;49m\u001B[38;5;124;43m \u001B[39;49m\u001B[38;5;124;43m'\u001B[39;49m\u001B[43m)\u001B[49m\u001B[38;5;241m.\u001B[39msplit()\n\u001B[1;32m    117\u001B[0m \u001B[38;5;66;03m# accept isin as ticker\u001B[39;00m\n\u001B[1;32m    118\u001B[0m shared\u001B[38;5;241m.\u001B[39m_ISINS \u001B[38;5;241m=\u001B[39m {}\n",
      "File \u001B[0;32mtimestamps.pyx:2452\u001B[0m, in \u001B[0;36mpandas._libs.tslibs.timestamps.Timestamp.replace\u001B[0;34m()\u001B[0m\n",
      "File \u001B[0;32mtimestamps.pyx:2446\u001B[0m, in \u001B[0;36mpandas._libs.tslibs.timestamps.Timestamp.replace.validate\u001B[0;34m()\u001B[0m\n",
      "\u001B[0;31mValueError\u001B[0m: value must be an integer, received <class 'str'> for year"
     ]
    }
   ],
   "source": [
    "back_tester.run_n_evaluate()"
   ]
  },
  {
   "cell_type": "code",
   "execution_count": null,
   "metadata": {},
   "outputs": [],
   "source": [
    "\n",
    "\n",
    "\n",
    "\n",
    "\n",
    "\n",
    "\n",
    "\n",
    "# Export the results to an excel file. Display parameter is for printing results to console as well.\n",
    "back_tester.results_to_excel2(\n",
    "    filename='backtesting_simulation_{}-{}.xlsx'.format(start_date.strftime('%Y%m%d'), end_date.strftime('%Y%m%d')),\n",
    "    save_dir='results',\n",
    "    disp=True\n",
    ")\n",
    "\n",
    "x=2\n",
    "# call save once on exit, even if multiple files were created during the simulation.\n",
    "\n",
    "\n",
    "\n",
    "\n"
   ]
  },
  {
   "cell_type": "code",
   "execution_count": null,
   "metadata": {},
   "outputs": [],
   "source": []
  }
 ],
 "metadata": {
  "kernelspec": {
   "display_name": "venv",
   "language": "python",
   "name": "python3"
  },
  "language_info": {
   "codemirror_mode": {
    "name": "ipython",
    "version": 3
   },
   "file_extension": ".py",
   "mimetype": "text/x-python",
   "name": "python",
   "nbconvert_exporter": "python",
   "pygments_lexer": "ipython3",
   "version": "3.12.2"
  }
 },
 "nbformat": 4,
 "nbformat_minor": 2
}
